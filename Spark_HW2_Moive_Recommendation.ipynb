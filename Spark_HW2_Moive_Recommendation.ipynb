{
  "nbformat": 4,
  "nbformat_minor": 0,
  "metadata": {
    "colab": {
      "name": "Spark HW2 Moive Recommendation",
      "provenance": [],
      "collapsed_sections": []
    },
    "kernelspec": {
      "name": "python3",
      "display_name": "Python 3"
    }
  },
  "cells": [
    {
      "cell_type": "markdown",
      "metadata": {
        "id": "sBD0yaToa1H8",
        "colab_type": "text"
      },
      "source": [
        "### Spark Setup "
      ]
    },
    {
      "cell_type": "code",
      "metadata": {
        "id": "NWZILV2Vpht9",
        "colab_type": "code",
        "colab": {
          "base_uri": "https://localhost:8080/",
          "height": 68
        },
        "outputId": "40b6352c-bc1b-4f24-c547-25a6f80d5418"
      },
      "source": [
        "# Set up Spark\n",
        "!apt-get install openjdk-8-jdk-headless -qq > /dev/null\n",
        "!wget -q http://apache.mirrors.hoobly.com/spark/spark-3.0.0/spark-3.0.0-bin-hadoop2.7.tgz\n",
        "!tar xf spark-3.0.0-bin-hadoop2.7.tgz\n",
        "!pip install -q findspark\n",
        "!pip install py4j\n",
        "\n",
        "!export JAVA_HOME=$(/usr/lib/jvm/java-8-openjdk-amd64 -v 1.8)\n",
        "! echo $JAVA_HOME\n",
        "import os\n",
        "os.environ[\"JAVA_HOME\"] = \"/usr/lib/jvm/java-8-openjdk-amd64\"\n",
        "os.environ[\"SPARK_HOME\"] = \"/content/spark-3.0.0-bin-hadoop2.7\"\n",
        "import findspark\n",
        "findspark.init(\"spark-3.0.0-bin-hadoop2.7\")# SPARK_HOME\n",
        "\n",
        "from pyspark.sql import SparkSession\n",
        "spark = SparkSession.builder.master(\"local[*]\").getOrCreate()"
      ],
      "execution_count": null,
      "outputs": [
        {
          "output_type": "stream",
          "text": [
            "Requirement already satisfied: py4j in /usr/local/lib/python3.6/dist-packages (0.10.9)\n",
            "/bin/bash: /usr/lib/jvm/java-8-openjdk-amd64: Is a directory\n",
            "\n"
          ],
          "name": "stdout"
        }
      ]
    },
    {
      "cell_type": "markdown",
      "metadata": {
        "id": "4EEB6wlxG8LL",
        "colab_type": "text"
      },
      "source": [
        "### 新段落"
      ]
    },
    {
      "cell_type": "code",
      "metadata": {
        "id": "jKTeRLPiqx_W",
        "colab_type": "code",
        "colab": {
          "base_uri": "https://localhost:8080/",
          "height": 68
        },
        "outputId": "2571cb83-f862-4fd7-cb09-d9f20d86c1ec"
      },
      "source": [
        "!ls"
      ],
      "execution_count": null,
      "outputs": [
        {
          "output_type": "stream",
          "text": [
            "links.csv    README.txt\t\t\tspark-3.0.0-bin-hadoop2.7.tgz\n",
            "movies.csv   sample_data\t\ttags.csv\n",
            "ratings.csv  spark-3.0.0-bin-hadoop2.7\n"
          ],
          "name": "stdout"
        }
      ]
    },
    {
      "cell_type": "code",
      "metadata": {
        "id": "EYh_tv1ErseU",
        "colab_type": "code",
        "colab": {
          "base_uri": "https://localhost:8080/",
          "height": 34
        },
        "outputId": "9c599458-4468-42f5-83d9-6a8ccc912e23"
      },
      "source": [
        "spark.version"
      ],
      "execution_count": null,
      "outputs": [
        {
          "output_type": "execute_result",
          "data": {
            "application/vnd.google.colaboratory.intrinsic+json": {
              "type": "string"
            },
            "text/plain": [
              "'3.0.0'"
            ]
          },
          "metadata": {
            "tags": []
          },
          "execution_count": 3
        }
      ]
    },
    {
      "cell_type": "markdown",
      "metadata": {
        "id": "7oWz67k3j6sI",
        "colab_type": "text"
      },
      "source": [
        "### Part1: Data ETL and Data Exploration\n",
        "Read data from your machine"
      ]
    },
    {
      "cell_type": "code",
      "metadata": {
        "id": "CbsoaAHha_GN",
        "colab_type": "code",
        "colab": {}
      },
      "source": [
        "# from google.colab import files\n",
        "\n",
        "# uploaded = files.upload()\n",
        "\n",
        "# for fn in uploaded.keys():\n",
        "#   print('User uploaded file \"{name}\" with length {length} bytes'.format(\n",
        "#       name=fn, length=len(uploaded[fn])))"
      ],
      "execution_count": null,
      "outputs": []
    },
    {
      "cell_type": "code",
      "metadata": {
        "id": "Jnj9YdHgblza",
        "colab_type": "code",
        "colab": {
          "base_uri": "https://localhost:8080/",
          "height": 68
        },
        "outputId": "5b81504d-a43a-451e-e26b-b5523aca2da6"
      },
      "source": [
        "!ls"
      ],
      "execution_count": null,
      "outputs": [
        {
          "output_type": "stream",
          "text": [
            "links.csv    README.txt\t\t\tspark-3.0.0-bin-hadoop2.7.tgz\n",
            "movies.csv   sample_data\t\ttags.csv\n",
            "ratings.csv  spark-3.0.0-bin-hadoop2.7\n"
          ],
          "name": "stdout"
        }
      ]
    },
    {
      "cell_type": "code",
      "metadata": {
        "id": "3FdwkP13jJJZ",
        "colab_type": "code",
        "colab": {
          "base_uri": "https://localhost:8080/",
          "height": 187
        },
        "outputId": "f86d08b7-e97c-4974-b21c-0e64ae9e7774"
      },
      "source": [
        "import os \n",
        "os.listdir('./')"
      ],
      "execution_count": null,
      "outputs": [
        {
          "output_type": "execute_result",
          "data": {
            "text/plain": [
              "['.config',\n",
              " 'README.txt',\n",
              " 'tags.csv',\n",
              " '.ipynb_checkpoints',\n",
              " 'ratings.csv',\n",
              " 'movies.csv',\n",
              " 'links.csv',\n",
              " 'spark-3.0.0-bin-hadoop2.7.tgz',\n",
              " 'spark-3.0.0-bin-hadoop2.7',\n",
              " 'sample_data']"
            ]
          },
          "metadata": {
            "tags": []
          },
          "execution_count": 8
        }
      ]
    },
    {
      "cell_type": "markdown",
      "metadata": {
        "id": "U2c-6aEbkBzU",
        "colab_type": "text"
      },
      "source": [
        "### Spark read data from drive"
      ]
    },
    {
      "cell_type": "code",
      "metadata": {
        "id": "Ue1XU8lDb-ED",
        "colab_type": "code",
        "colab": {}
      },
      "source": [
        "movies_df = spark.read.load(\"movies.csv\", format='csv', header = True)\n",
        "ratings_df = spark.read.load(\"ratings.csv\", format='csv', header = True)\n",
        "links_df = spark.read.load(\"links.csv\", format='csv', header = True)\n",
        "tags_df = spark.read.load(\"tags.csv\", format='csv', header = True)"
      ],
      "execution_count": null,
      "outputs": []
    },
    {
      "cell_type": "code",
      "metadata": {
        "id": "RGE5HG-_dqZy",
        "colab_type": "code",
        "colab": {
          "base_uri": "https://localhost:8080/",
          "height": 204
        },
        "outputId": "bcd967aa-4d92-46f7-806b-1eb38d6d1cde"
      },
      "source": [
        "movies_df.show(5)"
      ],
      "execution_count": null,
      "outputs": [
        {
          "output_type": "stream",
          "text": [
            "+-------+--------------------+--------------------+\n",
            "|movieId|               title|              genres|\n",
            "+-------+--------------------+--------------------+\n",
            "|      1|    Toy Story (1995)|Adventure|Animati...|\n",
            "|      2|      Jumanji (1995)|Adventure|Childre...|\n",
            "|      3|Grumpier Old Men ...|      Comedy|Romance|\n",
            "|      4|Waiting to Exhale...|Comedy|Drama|Romance|\n",
            "|      5|Father of the Bri...|              Comedy|\n",
            "+-------+--------------------+--------------------+\n",
            "only showing top 5 rows\n",
            "\n"
          ],
          "name": "stdout"
        }
      ]
    },
    {
      "cell_type": "code",
      "metadata": {
        "id": "WNrEhFOvo4la",
        "colab_type": "code",
        "colab": {
          "base_uri": "https://localhost:8080/",
          "height": 204
        },
        "outputId": "4ab87cf7-0b96-455c-e2c1-189d2fbca42f"
      },
      "source": [
        "ratings_df.show(5)"
      ],
      "execution_count": null,
      "outputs": [
        {
          "output_type": "stream",
          "text": [
            "+------+-------+------+---------+\n",
            "|userId|movieId|rating|timestamp|\n",
            "+------+-------+------+---------+\n",
            "|     1|      1|   4.0|964982703|\n",
            "|     1|      3|   4.0|964981247|\n",
            "|     1|      6|   4.0|964982224|\n",
            "|     1|     47|   5.0|964983815|\n",
            "|     1|     50|   5.0|964982931|\n",
            "+------+-------+------+---------+\n",
            "only showing top 5 rows\n",
            "\n"
          ],
          "name": "stdout"
        }
      ]
    },
    {
      "cell_type": "code",
      "metadata": {
        "id": "d07jRh-UDdW1",
        "colab_type": "code",
        "colab": {
          "base_uri": "https://localhost:8080/",
          "height": 204
        },
        "outputId": "108e8706-0e50-4abb-b946-01cd892db20c"
      },
      "source": [
        "links_df.show(5)"
      ],
      "execution_count": null,
      "outputs": [
        {
          "output_type": "stream",
          "text": [
            "+-------+-------+------+\n",
            "|movieId| imdbId|tmdbId|\n",
            "+-------+-------+------+\n",
            "|      1|0114709|   862|\n",
            "|      2|0113497|  8844|\n",
            "|      3|0113228| 15602|\n",
            "|      4|0114885| 31357|\n",
            "|      5|0113041| 11862|\n",
            "+-------+-------+------+\n",
            "only showing top 5 rows\n",
            "\n"
          ],
          "name": "stdout"
        }
      ]
    },
    {
      "cell_type": "code",
      "metadata": {
        "id": "MrxYplLKDOV9",
        "colab_type": "code",
        "colab": {
          "base_uri": "https://localhost:8080/",
          "height": 204
        },
        "outputId": "97e47389-70f5-49b1-f6b4-266ad5e1fb9a"
      },
      "source": [
        "tags_df.show(5)"
      ],
      "execution_count": null,
      "outputs": [
        {
          "output_type": "stream",
          "text": [
            "+------+-------+---------------+----------+\n",
            "|userId|movieId|            tag| timestamp|\n",
            "+------+-------+---------------+----------+\n",
            "|     2|  60756|          funny|1445714994|\n",
            "|     2|  60756|Highly quotable|1445714996|\n",
            "|     2|  60756|   will ferrell|1445714992|\n",
            "|     2|  89774|   Boxing story|1445715207|\n",
            "|     2|  89774|            MMA|1445715200|\n",
            "+------+-------+---------------+----------+\n",
            "only showing top 5 rows\n",
            "\n"
          ],
          "name": "stdout"
        }
      ]
    },
    {
      "cell_type": "markdown",
      "metadata": {
        "id": "J7KPqZd2rGEI",
        "colab_type": "text"
      },
      "source": [
        "Check null in each table"
      ]
    },
    {
      "cell_type": "code",
      "metadata": {
        "id": "Lns_UIJwq8dg",
        "colab_type": "code",
        "colab": {
          "base_uri": "https://localhost:8080/",
          "height": 102
        },
        "outputId": "34c20ddf-49dc-4bc8-ff2c-a7ea6719ffe4"
      },
      "source": [
        "print(\"If there is missing data in each table?\")\n",
        "print('movie_df: {}'.format(movies_df.count() == movies_df.na.drop().count()))\n",
        "print('ratings_df: {}'.format(ratings_df.count() == ratings_df.na.drop().count()))\n",
        "print('links_df: {}'.format(links_df.count() == links_df.na.drop().count()))\n",
        "print('tags_df: {}'.format(tags_df.count() == tags_df.na.drop().count()))"
      ],
      "execution_count": null,
      "outputs": [
        {
          "output_type": "stream",
          "text": [
            "If there is missing data in each table?\n",
            "movie_df: True\n",
            "ratings_df: True\n",
            "links_df: False\n",
            "tags_df: True\n"
          ],
          "name": "stdout"
        }
      ]
    },
    {
      "cell_type": "code",
      "metadata": {
        "id": "3_7W8Ii6hJrb",
        "colab_type": "code",
        "colab": {
          "base_uri": "https://localhost:8080/",
          "height": 68
        },
        "outputId": "77d26cb4-dce0-4ea3-ad91-9e39562d7b0b"
      },
      "source": [
        "tmp1 = ratings_df.groupBy(\"userID\").count().toPandas()['count'].min()\n",
        "tmp2 = ratings_df.groupBy(\"movieId\").count().toPandas()['count'].min()\n",
        "print('For the users that rated movies and the movies that were rated:')\n",
        "print('Minimum number of ratings per user is {}'.format(tmp1))\n",
        "print('Minimum number of ratings per movie is {}'.format(tmp2))"
      ],
      "execution_count": null,
      "outputs": [
        {
          "output_type": "stream",
          "text": [
            "For the users that rated movies and the movies that were rated:\n",
            "Minimum number of ratings per user is 20\n",
            "Minimum number of ratings per movie is 1\n"
          ],
          "name": "stdout"
        }
      ]
    },
    {
      "cell_type": "code",
      "metadata": {
        "id": "p0toiaWf-7W-",
        "colab_type": "code",
        "colab": {
          "base_uri": "https://localhost:8080/",
          "height": 34
        },
        "outputId": "f3403b43-659c-4aca-c4c0-3b9c36858da8"
      },
      "source": [
        "tmp1 = sum(ratings_df.groupBy(\"movieId\").count().toPandas()['count'] == 1)\n",
        "tmp2 = ratings_df.select('movieId').distinct().count()\n",
        "print('{} out of {} movies are rated by only one user'.format(tmp1, tmp2))"
      ],
      "execution_count": null,
      "outputs": [
        {
          "output_type": "stream",
          "text": [
            "3446 out of 9724 movies are rated by only one user\n"
          ],
          "name": "stdout"
        }
      ]
    },
    {
      "cell_type": "markdown",
      "metadata": {
        "id": "_sIAzayFkIyC",
        "colab_type": "text"
      },
      "source": [
        "### Part1: Spark SQL and OLAP"
      ]
    },
    {
      "cell_type": "code",
      "metadata": {
        "id": "5hFs4j3mhOWI",
        "colab_type": "code",
        "colab": {}
      },
      "source": [
        "movies_df.registerTempTable(\"movies\")\n",
        "ratings_df.registerTempTable(\"ratings\")\n",
        "links_df.registerTempTable(\"links\")\n",
        "tags_df.registerTempTable(\"tags\")"
      ],
      "execution_count": null,
      "outputs": []
    },
    {
      "cell_type": "markdown",
      "metadata": {
        "id": "7FjxRZdWsrLA",
        "colab_type": "text"
      },
      "source": [
        "Q1: The number of Users\n"
      ]
    },
    {
      "cell_type": "code",
      "metadata": {
        "id": "0GbHKFqvhWzi",
        "colab_type": "code",
        "colab": {
          "base_uri": "https://localhost:8080/",
          "height": 119
        },
        "outputId": "83db50c6-7556-442f-a47a-aa6d0004a791"
      },
      "source": [
        "num_of_users = spark.sql(\"Select count(distinct userId) as Number_of_users from ratings\")\n",
        "num_of_users.show()"
      ],
      "execution_count": null,
      "outputs": [
        {
          "output_type": "stream",
          "text": [
            "+---------------+\n",
            "|Number_of_users|\n",
            "+---------------+\n",
            "|            610|\n",
            "+---------------+\n",
            "\n"
          ],
          "name": "stdout"
        }
      ]
    },
    {
      "cell_type": "markdown",
      "metadata": {
        "id": "Q7Jn48E3tKkz",
        "colab_type": "text"
      },
      "source": [
        "Q2: The number of Movies"
      ]
    },
    {
      "cell_type": "code",
      "metadata": {
        "id": "ZkdXQgCtmqqo",
        "colab_type": "code",
        "colab": {
          "base_uri": "https://localhost:8080/",
          "height": 119
        },
        "outputId": "349530bc-ea95-463c-e44c-788473bba85b"
      },
      "source": [
        "num_of_movies = spark.sql(\"Select count(distinct movieId) as Number_of_movies from movies\")\n",
        "num_of_movies.show()"
      ],
      "execution_count": null,
      "outputs": [
        {
          "output_type": "stream",
          "text": [
            "+----------------+\n",
            "|Number_of_movies|\n",
            "+----------------+\n",
            "|            9742|\n",
            "+----------------+\n",
            "\n"
          ],
          "name": "stdout"
        }
      ]
    },
    {
      "cell_type": "markdown",
      "metadata": {
        "id": "MXnkE2autaaL",
        "colab_type": "text"
      },
      "source": [
        "Q3: How many movies are rated by users? List movies not rated before"
      ]
    },
    {
      "cell_type": "code",
      "metadata": {
        "id": "ogK5wu9im77Z",
        "colab_type": "code",
        "colab": {
          "base_uri": "https://localhost:8080/",
          "height": 408
        },
        "outputId": "f1a96805-eed3-4be7-bcac-b80f87f94bf2"
      },
      "source": [
        "# List movies not rated before\n",
        "not_rated_movies = spark.sql(\"Select title, genres from movies where movieId not in (Select movieId from ratings)\")\n",
        "not_rated_movies.show()"
      ],
      "execution_count": null,
      "outputs": [
        {
          "output_type": "stream",
          "text": [
            "+--------------------+--------------------+\n",
            "|               title|              genres|\n",
            "+--------------------+--------------------+\n",
            "|Innocents, The (1...|Drama|Horror|Thri...|\n",
            "|      Niagara (1953)|      Drama|Thriller|\n",
            "|For All Mankind (...|         Documentary|\n",
            "|Color of Paradise...|               Drama|\n",
            "|I Know Where I'm ...|   Drama|Romance|War|\n",
            "|  Chosen, The (1981)|               Drama|\n",
            "|Road Home, The (W...|       Drama|Romance|\n",
            "|      Scrooge (1970)|Drama|Fantasy|Mus...|\n",
            "|        Proof (1991)|Comedy|Drama|Romance|\n",
            "|Parallax View, Th...|            Thriller|\n",
            "|This Gun for Hire...|Crime|Film-Noir|T...|\n",
            "|Roaring Twenties,...|Crime|Drama|Thriller|\n",
            "|Mutiny on the Bou...|Adventure|Drama|R...|\n",
            "|In the Realms of ...|Animation|Documen...|\n",
            "|Twentieth Century...|              Comedy|\n",
            "|Call Northside 77...|Crime|Drama|Film-...|\n",
            "|Browning Version,...|               Drama|\n",
            "|  Chalet Girl (2011)|      Comedy|Romance|\n",
            "+--------------------+--------------------+\n",
            "\n"
          ],
          "name": "stdout"
        }
      ]
    },
    {
      "cell_type": "code",
      "metadata": {
        "id": "huUfknrOFnLj",
        "colab_type": "code",
        "colab": {
          "base_uri": "https://localhost:8080/",
          "height": 119
        },
        "outputId": "07d01471-77ee-4c69-8dc5-a01bac7fa35c"
      },
      "source": [
        "# The number of movies are rated by users \n",
        "num_of_rated_movies = spark.sql(\"Select count(distinct movieId) as Number_movies_are_rated_by_users from ratings\")\n",
        "num_of_rated_movies.show()"
      ],
      "execution_count": null,
      "outputs": [
        {
          "output_type": "stream",
          "text": [
            "+--------------------------------+\n",
            "|Number_movies_are_rated_by_users|\n",
            "+--------------------------------+\n",
            "|                            9724|\n",
            "+--------------------------------+\n",
            "\n"
          ],
          "name": "stdout"
        }
      ]
    },
    {
      "cell_type": "markdown",
      "metadata": {
        "id": "VpkCt6vaw2W1",
        "colab_type": "text"
      },
      "source": [
        "Q4: List Movie Genres"
      ]
    },
    {
      "cell_type": "code",
      "metadata": {
        "id": "MbSaplthnUAQ",
        "colab_type": "code",
        "colab": {
          "base_uri": "https://localhost:8080/",
          "height": 459
        },
        "outputId": "4de4badd-87ff-442e-e297-0e4d00f7a18b"
      },
      "source": [
        "movie_genres = spark.sql(\"Select distinct genres from movies\")\n",
        "movie_genres.show()"
      ],
      "execution_count": null,
      "outputs": [
        {
          "output_type": "stream",
          "text": [
            "+--------------------+\n",
            "|              genres|\n",
            "+--------------------+\n",
            "|Comedy|Horror|Thr...|\n",
            "|Adventure|Sci-Fi|...|\n",
            "|Action|Adventure|...|\n",
            "| Action|Drama|Horror|\n",
            "|Action|Animation|...|\n",
            "|Animation|Childre...|\n",
            "|Action|Adventure|...|\n",
            "|    Adventure|Sci-Fi|\n",
            "|Documentary|Music...|\n",
            "|Adventure|Childre...|\n",
            "| Adventure|Animation|\n",
            "| Musical|Romance|War|\n",
            "|Action|Adventure|...|\n",
            "|Adventure|Childre...|\n",
            "|Comedy|Crime|Horr...|\n",
            "|Crime|Drama|Fanta...|\n",
            "|Comedy|Mystery|Th...|\n",
            "|   Adventure|Fantasy|\n",
            "|Horror|Romance|Sc...|\n",
            "|Drama|Film-Noir|R...|\n",
            "+--------------------+\n",
            "only showing top 20 rows\n",
            "\n"
          ],
          "name": "stdout"
        }
      ]
    },
    {
      "cell_type": "code",
      "metadata": {
        "id": "vsXug9B9JjIG",
        "colab_type": "code",
        "colab": {
          "base_uri": "https://localhost:8080/",
          "height": 442
        },
        "outputId": "a62eacbb-66da-4ed1-bc64-b7e21fd882ca"
      },
      "source": [
        "movie_genres = spark.sql(\"Select distinct Category from movies \\\n",
        "lateral view explode(split(genres,'[|]')) as Category order by Category\")\n",
        "movie_genres.show()"
      ],
      "execution_count": null,
      "outputs": [
        {
          "output_type": "stream",
          "text": [
            "+------------------+\n",
            "|          Category|\n",
            "+------------------+\n",
            "|(no genres listed)|\n",
            "|            Action|\n",
            "|         Adventure|\n",
            "|         Animation|\n",
            "|          Children|\n",
            "|            Comedy|\n",
            "|             Crime|\n",
            "|       Documentary|\n",
            "|             Drama|\n",
            "|           Fantasy|\n",
            "|         Film-Noir|\n",
            "|            Horror|\n",
            "|              IMAX|\n",
            "|           Musical|\n",
            "|           Mystery|\n",
            "|           Romance|\n",
            "|            Sci-Fi|\n",
            "|          Thriller|\n",
            "|               War|\n",
            "|           Western|\n",
            "+------------------+\n",
            "\n"
          ],
          "name": "stdout"
        }
      ]
    },
    {
      "cell_type": "markdown",
      "metadata": {
        "id": "U_LEI2Tmx7gE",
        "colab_type": "text"
      },
      "source": [
        "Q5: Movie for Each Category"
      ]
    },
    {
      "cell_type": "code",
      "metadata": {
        "id": "evh69e43n5nJ",
        "colab_type": "code",
        "colab": {
          "base_uri": "https://localhost:8080/",
          "height": 442
        },
        "outputId": "dbac9372-4b41-4a43-b201-24150a4d9e98"
      },
      "source": [
        "movie_category = spark.sql(\"Select Category, count(movieId) as number from movies \\\n",
        "lateral view explode(split(genres,'[|]')) as Category group by Category order by number desc\")\n",
        "movie_category.show()"
      ],
      "execution_count": null,
      "outputs": [
        {
          "output_type": "stream",
          "text": [
            "+------------------+------+\n",
            "|          Category|number|\n",
            "+------------------+------+\n",
            "|             Drama|  4361|\n",
            "|            Comedy|  3756|\n",
            "|          Thriller|  1894|\n",
            "|            Action|  1828|\n",
            "|           Romance|  1596|\n",
            "|         Adventure|  1263|\n",
            "|             Crime|  1199|\n",
            "|            Sci-Fi|   980|\n",
            "|            Horror|   978|\n",
            "|           Fantasy|   779|\n",
            "|          Children|   664|\n",
            "|         Animation|   611|\n",
            "|           Mystery|   573|\n",
            "|       Documentary|   440|\n",
            "|               War|   382|\n",
            "|           Musical|   334|\n",
            "|           Western|   167|\n",
            "|              IMAX|   158|\n",
            "|         Film-Noir|    87|\n",
            "|(no genres listed)|    34|\n",
            "+------------------+------+\n",
            "\n"
          ],
          "name": "stdout"
        }
      ]
    },
    {
      "cell_type": "code",
      "metadata": {
        "id": "i1uWf8mjyEIv",
        "colab_type": "code",
        "colab": {
          "base_uri": "https://localhost:8080/",
          "height": 442
        },
        "outputId": "819e16d3-87e0-4e42-b3f5-8a2e9f1ad402"
      },
      "source": [
        "movie_category = spark.sql(\"Select Category, concat_ws(',', collect_set(t.title)) as list_of_movies from \\\n",
        "  (Select Category, title from movies lateral view explode(split(genres, '[|]')) as Category \\\n",
        "  group by Category, title) as t group by t.Category\")\n",
        "\n",
        "movie_category.show()"
      ],
      "execution_count": null,
      "outputs": [
        {
          "output_type": "stream",
          "text": [
            "+------------------+--------------------+\n",
            "|          Category|      list_of_movies|\n",
            "+------------------+--------------------+\n",
            "|             Crime|Stealing Rembrand...|\n",
            "|           Romance|Vampire in Brookl...|\n",
            "|          Thriller|Element of Crime,...|\n",
            "|         Adventure|Ice Age: Collisio...|\n",
            "|             Drama|Airport '77 (1977...|\n",
            "|               War|General, The (192...|\n",
            "|       Documentary|Jim & Andy: The G...|\n",
            "|           Fantasy|Masters of the Un...|\n",
            "|           Mystery|Before and After ...|\n",
            "|           Musical|U2: Rattle and Hu...|\n",
            "|         Animation|Ice Age: Collisio...|\n",
            "|         Film-Noir|Rififi (Du rififi...|\n",
            "|(no genres listed)|T2 3-D: Battle Ac...|\n",
            "|              IMAX|Harry Potter and ...|\n",
            "|            Horror|Tormented (1960),...|\n",
            "|           Western|Man Who Shot Libe...|\n",
            "|            Comedy|Hysteria (2011),H...|\n",
            "|          Children|Ice Age: Collisio...|\n",
            "|            Action|Stealing Rembrand...|\n",
            "|            Sci-Fi|Push (2009),SORI:...|\n",
            "+------------------+--------------------+\n",
            "\n"
          ],
          "name": "stdout"
        }
      ]
    },
    {
      "cell_type": "markdown",
      "metadata": {
        "id": "rnCPx9NB0uum",
        "colab_type": "text"
      },
      "source": [
        "Part 2: Spark ALS based approach for training model \n",
        "\n",
        "We will use an Spark ML to predict the ratings, so let's reload \"ratings.csv\" using sc.textFile and then convert it to the form of (user, item, rating) tuples."
      ]
    },
    {
      "cell_type": "code",
      "metadata": {
        "id": "rT4GuoWoyD5n",
        "colab_type": "code",
        "colab": {
          "base_uri": "https://localhost:8080/",
          "height": 459
        },
        "outputId": "c36df399-74ec-4994-fabe-7018aa7ce8d1"
      },
      "source": [
        "ratings_df.show()"
      ],
      "execution_count": null,
      "outputs": [
        {
          "output_type": "stream",
          "text": [
            "+------+-------+------+---------+\n",
            "|userId|movieId|rating|timestamp|\n",
            "+------+-------+------+---------+\n",
            "|     1|      1|   4.0|964982703|\n",
            "|     1|      3|   4.0|964981247|\n",
            "|     1|      6|   4.0|964982224|\n",
            "|     1|     47|   5.0|964983815|\n",
            "|     1|     50|   5.0|964982931|\n",
            "|     1|     70|   3.0|964982400|\n",
            "|     1|    101|   5.0|964980868|\n",
            "|     1|    110|   4.0|964982176|\n",
            "|     1|    151|   5.0|964984041|\n",
            "|     1|    157|   5.0|964984100|\n",
            "|     1|    163|   5.0|964983650|\n",
            "|     1|    216|   5.0|964981208|\n",
            "|     1|    223|   3.0|964980985|\n",
            "|     1|    231|   5.0|964981179|\n",
            "|     1|    235|   4.0|964980908|\n",
            "|     1|    260|   5.0|964981680|\n",
            "|     1|    296|   3.0|964982967|\n",
            "|     1|    316|   3.0|964982310|\n",
            "|     1|    333|   5.0|964981179|\n",
            "|     1|    349|   4.0|964982563|\n",
            "+------+-------+------+---------+\n",
            "only showing top 20 rows\n",
            "\n"
          ],
          "name": "stdout"
        }
      ]
    },
    {
      "cell_type": "code",
      "metadata": {
        "id": "lFEmMrE9MqRD",
        "colab_type": "code",
        "colab": {}
      },
      "source": [
        "movie_ratings = ratings_df.drop('timestamp')"
      ],
      "execution_count": null,
      "outputs": []
    },
    {
      "cell_type": "code",
      "metadata": {
        "id": "sv5Nqhqa1aJh",
        "colab_type": "code",
        "colab": {
          "base_uri": "https://localhost:8080/",
          "height": 459
        },
        "outputId": "2c4424b0-64a7-44fc-80a7-8b220ff45594"
      },
      "source": [
        "# Data type convert\n",
        "from pyspark.sql.types import IntegerType, FloatType\n",
        "movie_ratings = movie_ratings.withColumn(\"userId\", movie_ratings [\"userId\"].cast(IntegerType()))\n",
        "movie_ratings = movie_ratings.withColumn(\"movieId\", movie_ratings [\"movieId\"].cast(IntegerType()))\n",
        "movie_ratings = movie_ratings.withColumn(\"rating\", movie_ratings [\"rating\"].cast(FloatType()))\n",
        "movie_ratings.show()"
      ],
      "execution_count": null,
      "outputs": [
        {
          "output_type": "stream",
          "text": [
            "+------+-------+------+\n",
            "|userId|movieId|rating|\n",
            "+------+-------+------+\n",
            "|     1|      1|   4.0|\n",
            "|     1|      3|   4.0|\n",
            "|     1|      6|   4.0|\n",
            "|     1|     47|   5.0|\n",
            "|     1|     50|   5.0|\n",
            "|     1|     70|   3.0|\n",
            "|     1|    101|   5.0|\n",
            "|     1|    110|   4.0|\n",
            "|     1|    151|   5.0|\n",
            "|     1|    157|   5.0|\n",
            "|     1|    163|   5.0|\n",
            "|     1|    216|   5.0|\n",
            "|     1|    223|   3.0|\n",
            "|     1|    231|   5.0|\n",
            "|     1|    235|   4.0|\n",
            "|     1|    260|   5.0|\n",
            "|     1|    296|   3.0|\n",
            "|     1|    316|   3.0|\n",
            "|     1|    333|   5.0|\n",
            "|     1|    349|   4.0|\n",
            "+------+-------+------+\n",
            "only showing top 20 rows\n",
            "\n"
          ],
          "name": "stdout"
        }
      ]
    },
    {
      "cell_type": "markdown",
      "metadata": {
        "id": "NAJyYEZa3CfY",
        "colab_type": "text"
      },
      "source": [
        "ALS Model Selection and Evaluation\n",
        "\n",
        "With the ALS model, we can use a grid search to find the optimal hyperparameters."
      ]
    },
    {
      "cell_type": "code",
      "metadata": {
        "id": "zLMp5DmK2S4J",
        "colab_type": "code",
        "colab": {}
      },
      "source": [
        "# import package\n",
        "from pyspark.ml.evaluation import RegressionEvaluator\n",
        "from pyspark.ml.recommendation import ALS\n",
        "from pyspark.ml.tuning import CrossValidator, ParamGridBuilder"
      ],
      "execution_count": null,
      "outputs": []
    },
    {
      "cell_type": "code",
      "metadata": {
        "id": "yMRYdQAx3sOt",
        "colab_type": "code",
        "colab": {}
      },
      "source": [
        "# Create test and train set\n",
        "(training, test) = movie_ratings.randomSplit([0.8,0.2], seed = 1)"
      ],
      "execution_count": null,
      "outputs": []
    },
    {
      "cell_type": "code",
      "metadata": {
        "id": "nC-_cOwK38l2",
        "colab_type": "code",
        "colab": {}
      },
      "source": [
        "#Create ALS model\n",
        "als = ALS(maxIter=5, rank=10, regParam=0.01, userCol=\"userId\", itemCol=\"movieId\", ratingCol=\"rating\",\n",
        "          coldStartStrategy=\"drop\")"
      ],
      "execution_count": null,
      "outputs": []
    },
    {
      "cell_type": "code",
      "metadata": {
        "id": "hO71R8RB3896",
        "colab_type": "code",
        "colab": {}
      },
      "source": [
        "# Tune model using ParamGridBuilder\n",
        "paramGrid = ParamGridBuilder()\\\n",
        "            .addGrid(als.regParam, [0.1, 0.01, 0.001])\\\n",
        "            .addGrid(als.maxIter, [5])\\\n",
        "            .addGrid(als.rank, [5, 10, 15])\\\n",
        "            .build()"
      ],
      "execution_count": null,
      "outputs": []
    },
    {
      "cell_type": "code",
      "metadata": {
        "id": "tcO0O2vM9PcB",
        "colab_type": "code",
        "colab": {}
      },
      "source": [
        "# Define evaluator as RMSE\n",
        "evaluator = RegressionEvaluator(metricName=\"rmse\", labelCol=\"rating\",\n",
        "                                predictionCol=\"prediction\")\n"
      ],
      "execution_count": null,
      "outputs": []
    },
    {
      "cell_type": "code",
      "metadata": {
        "id": "AJ_OGmvT9Pzu",
        "colab_type": "code",
        "colab": {}
      },
      "source": [
        "# Build Cross validation\n",
        "crossval = CrossValidator(estimator = als, \n",
        "                          estimatorParamMaps = paramGrid,\n",
        "                          evaluator = evaluator,\n",
        "                          numFolds = 5)"
      ],
      "execution_count": null,
      "outputs": []
    },
    {
      "cell_type": "code",
      "metadata": {
        "id": "tXHyd3jW-Ak3",
        "colab_type": "code",
        "colab": {}
      },
      "source": [
        "# Fit ALS model to trainning data\n",
        "model = als.fit(training)"
      ],
      "execution_count": null,
      "outputs": []
    },
    {
      "cell_type": "code",
      "metadata": {
        "id": "npbFrqIa-A77",
        "colab_type": "code",
        "colab": {
          "base_uri": "https://localhost:8080/",
          "height": 34
        },
        "outputId": "d38cd874-d36d-45bc-8885-9e805c6053b7"
      },
      "source": [
        "# Extract best model from the tunning exercise using ParamGridBuilder\n",
        "cvModel = crossval.fit(training)\n",
        "predictions = cvModel.transform(training)\n",
        "rmse = evaluator.evaluate(predictions)\n",
        "print(\"Root-mean-square error = \" + str(rmse))"
      ],
      "execution_count": null,
      "outputs": [
        {
          "output_type": "stream",
          "text": [
            "Root-mean-square error = 0.6535070060296998\n"
          ],
          "name": "stdout"
        }
      ]
    },
    {
      "cell_type": "markdown",
      "metadata": {
        "id": "m81lWkYiEjDT",
        "colab_type": "text"
      },
      "source": [
        "Model testing\n",
        "\n",
        "And finally, make a prediction and check the testing error."
      ]
    },
    {
      "cell_type": "code",
      "metadata": {
        "id": "Wp5ENxGGELTo",
        "colab_type": "code",
        "colab": {}
      },
      "source": [
        "# Generate predictions and evaluate using RMSE\n",
        "best_model = cvModel.bestModel\n",
        "predictions = best_model.transform(test)\n",
        "rmse = evaluator.evaluate(predictions)"
      ],
      "execution_count": null,
      "outputs": []
    },
    {
      "cell_type": "code",
      "metadata": {
        "id": "Hlp3q-ziE_7O",
        "colab_type": "code",
        "colab": {
          "base_uri": "https://localhost:8080/",
          "height": 102
        },
        "outputId": "bd2f297f-b436-4cff-83a5-08c7213568bd"
      },
      "source": [
        "# Print evaluation metrics and model parameters\n",
        "print (\"RMSE = \"+ str(rmse))\n",
        "print (\"**Best Model**\")\n",
        "print (\" Rank:\"+ str(best_model._java_obj.parent().getRank())), \n",
        "print (\" MaxIter:\" + str(best_model._java_obj.parent().getMaxIter())), \n",
        "print (\" RegParam:\" + str(best_model._java_obj.parent().getRegParam()))"
      ],
      "execution_count": null,
      "outputs": [
        {
          "output_type": "stream",
          "text": [
            "RMSE = 0.8768334444841349\n",
            "**Best Model**\n",
            " Rank:5\n",
            " MaxIter:5\n",
            " RegParam:0.1\n"
          ],
          "name": "stdout"
        }
      ]
    },
    {
      "cell_type": "code",
      "metadata": {
        "id": "MfRKkUeuFAO-",
        "colab_type": "code",
        "colab": {
          "base_uri": "https://localhost:8080/",
          "height": 459
        },
        "outputId": "389c896b-4281-4c1a-b8aa-4cbf6c67308d"
      },
      "source": [
        "predictions.show()"
      ],
      "execution_count": null,
      "outputs": [
        {
          "output_type": "stream",
          "text": [
            "+------+-------+------+----------+\n",
            "|userId|movieId|rating|prediction|\n",
            "+------+-------+------+----------+\n",
            "|    91|    471|   1.0| 2.5507083|\n",
            "|   462|    471|   2.5|  3.108667|\n",
            "|   520|    471|   5.0|  3.633205|\n",
            "|   411|    471|   4.0|   3.15352|\n",
            "|    32|    471|   3.0|  3.457068|\n",
            "|   469|    471|   5.0|   3.59625|\n",
            "|   104|    471|   4.5| 3.5028918|\n",
            "|   169|   1088|   4.5|  4.432019|\n",
            "|   387|   1088|   1.5|  2.659665|\n",
            "|   381|   1088|   3.5| 3.7212386|\n",
            "|    84|   1088|   3.0|   3.46345|\n",
            "|    51|   1088|   4.0| 3.5365894|\n",
            "|   391|   1088|   1.0|  2.795803|\n",
            "|   188|   1088|   4.0| 3.8472464|\n",
            "|   600|   1088|   3.5| 2.5938923|\n",
            "|    42|   1088|   3.0|  3.699719|\n",
            "|   325|   1238|   4.0| 4.6691504|\n",
            "|   425|   1342|   3.5|  2.305586|\n",
            "|   600|   1342|   2.5| 2.4082193|\n",
            "|    34|   1580|   2.5| 3.6282887|\n",
            "+------+-------+------+----------+\n",
            "only showing top 20 rows\n",
            "\n"
          ],
          "name": "stdout"
        }
      ]
    },
    {
      "cell_type": "markdown",
      "metadata": {
        "id": "7TKeRi1iHQ14",
        "colab_type": "text"
      },
      "source": [
        "Model apply and see the performance"
      ]
    },
    {
      "cell_type": "code",
      "metadata": {
        "id": "uaxvpeqlFAgm",
        "colab_type": "code",
        "colab": {
          "base_uri": "https://localhost:8080/",
          "height": 51
        },
        "outputId": "6b9ed5e1-726d-4bbd-f7a9-4bf3b9b823ea"
      },
      "source": [
        "alldata = best_model.transform(movie_ratings)\n",
        "print(alldata)\n",
        "rmse = evaluator.evaluate(alldata)\n",
        "print(\"RMSE = \" + str(rmse))"
      ],
      "execution_count": null,
      "outputs": [
        {
          "output_type": "stream",
          "text": [
            "DataFrame[userId: int, movieId: int, rating: float, prediction: float]\n",
            "RMSE = 0.702660546619583\n"
          ],
          "name": "stdout"
        }
      ]
    },
    {
      "cell_type": "code",
      "metadata": {
        "id": "ZEFk_tfUH1Y1",
        "colab_type": "code",
        "colab": {}
      },
      "source": [
        "alldata.registerTempTable(\"alldata\")"
      ],
      "execution_count": null,
      "outputs": []
    },
    {
      "cell_type": "code",
      "metadata": {
        "id": "gIPtsKeLICeD",
        "colab_type": "code",
        "colab": {
          "base_uri": "https://localhost:8080/",
          "height": 459
        },
        "outputId": "9c38910a-0f8f-4732-c1f1-76bc045de606"
      },
      "source": [
        "output = spark.sql(\"Select * from alldata\")\n",
        "output.show()"
      ],
      "execution_count": null,
      "outputs": [
        {
          "output_type": "stream",
          "text": [
            "+------+-------+------+----------+\n",
            "|userId|movieId|rating|prediction|\n",
            "+------+-------+------+----------+\n",
            "|   191|    148|   5.0|  4.981635|\n",
            "|   133|    471|   4.0| 3.3381379|\n",
            "|   597|    471|   2.0| 3.7802052|\n",
            "|   385|    471|   4.0| 3.2818017|\n",
            "|   436|    471|   3.0|  3.522771|\n",
            "|   602|    471|   4.0| 3.8617244|\n",
            "|    91|    471|   1.0| 2.5507083|\n",
            "|   409|    471|   3.0|  4.060608|\n",
            "|   372|    471|   3.0| 2.5710945|\n",
            "|   599|    471|   2.5| 2.6305625|\n",
            "|   603|    471|   4.0| 3.4769447|\n",
            "|   182|    471|   4.5|  3.918007|\n",
            "|   218|    471|   4.0| 3.3713999|\n",
            "|   474|    471|   3.0| 3.7102542|\n",
            "|   500|    471|   1.0|  2.700399|\n",
            "|    57|    471|   3.0| 3.5570793|\n",
            "|   462|    471|   2.5|  3.108667|\n",
            "|   387|    471|   3.0|  2.876326|\n",
            "|   610|    471|   4.0|  3.183628|\n",
            "|   217|    471|   2.0|  2.311636|\n",
            "+------+-------+------+----------+\n",
            "only showing top 20 rows\n",
            "\n"
          ],
          "name": "stdout"
        }
      ]
    },
    {
      "cell_type": "code",
      "metadata": {
        "id": "NZTP-LOSI-W8",
        "colab_type": "code",
        "colab": {
          "base_uri": "https://localhost:8080/",
          "height": 459
        },
        "outputId": "39ebbeb2-b607-46c2-d430-a09ac52a9a0b"
      },
      "source": [
        "output = spark.sql(\"Select * from movies join alldata on movies.movieId = alldata.movieId\")\n",
        "output.show()"
      ],
      "execution_count": null,
      "outputs": [
        {
          "output_type": "stream",
          "text": [
            "+-------+--------------------+------+------+-------+------+----------+\n",
            "|movieId|               title|genres|userId|movieId|rating|prediction|\n",
            "+-------+--------------------+------+------+-------+------+----------+\n",
            "|    148|Awfully Big Adven...| Drama|   191|    148|   5.0|  4.981635|\n",
            "|    471|Hudsucker Proxy, ...|Comedy|   133|    471|   4.0| 3.3381379|\n",
            "|    471|Hudsucker Proxy, ...|Comedy|   597|    471|   2.0| 3.7802052|\n",
            "|    471|Hudsucker Proxy, ...|Comedy|   385|    471|   4.0| 3.2818017|\n",
            "|    471|Hudsucker Proxy, ...|Comedy|   436|    471|   3.0|  3.522771|\n",
            "|    471|Hudsucker Proxy, ...|Comedy|   602|    471|   4.0| 3.8617244|\n",
            "|    471|Hudsucker Proxy, ...|Comedy|    91|    471|   1.0| 2.5507083|\n",
            "|    471|Hudsucker Proxy, ...|Comedy|   409|    471|   3.0|  4.060608|\n",
            "|    471|Hudsucker Proxy, ...|Comedy|   372|    471|   3.0| 2.5710945|\n",
            "|    471|Hudsucker Proxy, ...|Comedy|   599|    471|   2.5| 2.6305625|\n",
            "|    471|Hudsucker Proxy, ...|Comedy|   603|    471|   4.0| 3.4769447|\n",
            "|    471|Hudsucker Proxy, ...|Comedy|   182|    471|   4.5|  3.918007|\n",
            "|    471|Hudsucker Proxy, ...|Comedy|   218|    471|   4.0| 3.3713999|\n",
            "|    471|Hudsucker Proxy, ...|Comedy|   474|    471|   3.0| 3.7102542|\n",
            "|    471|Hudsucker Proxy, ...|Comedy|   500|    471|   1.0|  2.700399|\n",
            "|    471|Hudsucker Proxy, ...|Comedy|    57|    471|   3.0| 3.5570793|\n",
            "|    471|Hudsucker Proxy, ...|Comedy|   462|    471|   2.5|  3.108667|\n",
            "|    471|Hudsucker Proxy, ...|Comedy|   387|    471|   3.0|  2.876326|\n",
            "|    471|Hudsucker Proxy, ...|Comedy|   610|    471|   4.0|  3.183628|\n",
            "|    471|Hudsucker Proxy, ...|Comedy|   217|    471|   2.0|  2.311636|\n",
            "+-------+--------------------+------+------+-------+------+----------+\n",
            "only showing top 20 rows\n",
            "\n"
          ],
          "name": "stdout"
        }
      ]
    },
    {
      "cell_type": "markdown",
      "metadata": {
        "id": "IMIlJQxzKN_E",
        "colab_type": "text"
      },
      "source": [
        "Recommond movies to user with id: 575, 232.\n",
        "\n",
        "\n",
        "you can choose some users to recommend the movies\n"
      ]
    },
    {
      "cell_type": "code",
      "metadata": {
        "id": "ylwCF4ekWAas",
        "colab_type": "code",
        "colab": {
          "base_uri": "https://localhost:8080/",
          "height": 51
        },
        "outputId": "49459db2-8360-453a-8cc8-b4ac668b31c9"
      },
      "source": [
        "!pip install pyarrow"
      ],
      "execution_count": null,
      "outputs": [
        {
          "output_type": "stream",
          "text": [
            "Requirement already satisfied: pyarrow in /usr/local/lib/python3.6/dist-packages (0.17.1)\n",
            "Requirement already satisfied: numpy>=1.14 in /usr/local/lib/python3.6/dist-packages (from pyarrow) (1.18.5)\n"
          ],
          "name": "stdout"
        }
      ]
    },
    {
      "cell_type": "code",
      "metadata": {
        "id": "ih0_gAT6bHir",
        "colab_type": "code",
        "colab": {
          "base_uri": "https://localhost:8080/",
          "height": 224
        },
        "outputId": "8dee4577-1429-4aba-ab63-e55063d13bc2"
      },
      "source": [
        "!pip install koalas"
      ],
      "execution_count": null,
      "outputs": [
        {
          "output_type": "stream",
          "text": [
            "Requirement already satisfied: koalas in /usr/local/lib/python3.6/dist-packages (1.1.0)\n",
            "Requirement already satisfied: matplotlib>=3.0.0 in /usr/local/lib/python3.6/dist-packages (from koalas) (3.2.2)\n",
            "Requirement already satisfied: pyarrow>=0.10 in /usr/local/lib/python3.6/dist-packages (from koalas) (0.17.1)\n",
            "Requirement already satisfied: numpy>=1.14 in /usr/local/lib/python3.6/dist-packages (from koalas) (1.18.5)\n",
            "Requirement already satisfied: pandas>=0.23.2 in /usr/local/lib/python3.6/dist-packages (from koalas) (1.0.5)\n",
            "Requirement already satisfied: cycler>=0.10 in /usr/local/lib/python3.6/dist-packages (from matplotlib>=3.0.0->koalas) (0.10.0)\n",
            "Requirement already satisfied: pyparsing!=2.0.4,!=2.1.2,!=2.1.6,>=2.0.1 in /usr/local/lib/python3.6/dist-packages (from matplotlib>=3.0.0->koalas) (2.4.7)\n",
            "Requirement already satisfied: python-dateutil>=2.1 in /usr/local/lib/python3.6/dist-packages (from matplotlib>=3.0.0->koalas) (2.8.1)\n",
            "Requirement already satisfied: kiwisolver>=1.0.1 in /usr/local/lib/python3.6/dist-packages (from matplotlib>=3.0.0->koalas) (1.2.0)\n",
            "Requirement already satisfied: pytz>=2017.2 in /usr/local/lib/python3.6/dist-packages (from pandas>=0.23.2->koalas) (2018.9)\n",
            "Requirement already satisfied: six in /usr/local/lib/python3.6/dist-packages (from cycler>=0.10->matplotlib>=3.0.0->koalas) (1.15.0)\n"
          ],
          "name": "stdout"
        }
      ]
    },
    {
      "cell_type": "code",
      "metadata": {
        "id": "hFgp0D7h3NTz",
        "colab_type": "code",
        "colab": {
          "base_uri": "https://localhost:8080/",
          "height": 51
        },
        "outputId": "548cf543-589e-4859-ec7e-c1385e26feb3"
      },
      "source": [
        "!pip install pyspark"
      ],
      "execution_count": null,
      "outputs": [
        {
          "output_type": "stream",
          "text": [
            "Requirement already satisfied: pyspark in /usr/local/lib/python3.6/dist-packages (3.0.0)\n",
            "Requirement already satisfied: py4j==0.10.9 in /usr/local/lib/python3.6/dist-packages (from pyspark) (0.10.9)\n"
          ],
          "name": "stdout"
        }
      ]
    },
    {
      "cell_type": "code",
      "metadata": {
        "id": "XunaIZnPbUic",
        "colab_type": "code",
        "colab": {}
      },
      "source": [
        "import databricks.koalas as ks"
      ],
      "execution_count": null,
      "outputs": []
    },
    {
      "cell_type": "code",
      "metadata": {
        "id": "ccDe-nNKKVeU",
        "colab_type": "code",
        "colab": {}
      },
      "source": [
        "# Generate top 10 movie recommendations for each user\n",
        "userRecs = best_model.recommendForAllUsers(10)"
      ],
      "execution_count": null,
      "outputs": []
    },
    {
      "cell_type": "code",
      "metadata": {
        "id": "xbWItbeXKxe-",
        "colab_type": "code",
        "colab": {
          "base_uri": "https://localhost:8080/",
          "height": 119
        },
        "outputId": "8525e752-e280-4c7b-b855-caaf2c9fc8bd"
      },
      "source": [
        "userRecs.filter(userRecs.userId == 575).show()"
      ],
      "execution_count": null,
      "outputs": [
        {
          "output_type": "stream",
          "text": [
            "+------+--------------------+\n",
            "|userId|     recommendations|\n",
            "+------+--------------------+\n",
            "|   575|[[6201, 5.2072964...|\n",
            "+------+--------------------+\n",
            "\n"
          ],
          "name": "stdout"
        }
      ]
    },
    {
      "cell_type": "code",
      "metadata": {
        "id": "8vzH4IHDLHJ5",
        "colab_type": "code",
        "colab": {
          "base_uri": "https://localhost:8080/",
          "height": 54
        },
        "outputId": "16f9cbef-2a90-48ad-9b31-5c47e91196db"
      },
      "source": [
        "userRecs.head()"
      ],
      "execution_count": null,
      "outputs": [
        {
          "output_type": "execute_result",
          "data": {
            "text/plain": [
              "Row(userId=471, recommendations=[Row(movieId=8477, rating=5.117608070373535), Row(movieId=148881, rating=5.07659912109375), Row(movieId=40491, rating=4.868337154388428), Row(movieId=6818, rating=4.868337154388428), Row(movieId=3379, rating=4.856972694396973), Row(movieId=4495, rating=4.80442476272583), Row(movieId=6201, rating=4.80442476272583), Row(movieId=33649, rating=4.7364277839660645), Row(movieId=58301, rating=4.729963302612305), Row(movieId=53, rating=4.717412948608398)])"
            ]
          },
          "metadata": {
            "tags": []
          },
          "execution_count": 50
        }
      ]
    },
    {
      "cell_type": "code",
      "metadata": {
        "id": "7EUI9kOyLRj7",
        "colab_type": "code",
        "colab": {}
      },
      "source": [
        "user_rec = userRecs.to_koalas()"
      ],
      "execution_count": null,
      "outputs": []
    },
    {
      "cell_type": "code",
      "metadata": {
        "id": "6nG-fm5ILqnd",
        "colab_type": "code",
        "colab": {
          "base_uri": "https://localhost:8080/",
          "height": 204
        },
        "outputId": "635dc54b-c016-49fb-8b38-11085708a1a1"
      },
      "source": [
        "user_rec.head(5)"
      ],
      "execution_count": null,
      "outputs": [
        {
          "output_type": "execute_result",
          "data": {
            "text/html": [
              "<div>\n",
              "<style scoped>\n",
              "    .dataframe tbody tr th:only-of-type {\n",
              "        vertical-align: middle;\n",
              "    }\n",
              "\n",
              "    .dataframe tbody tr th {\n",
              "        vertical-align: top;\n",
              "    }\n",
              "\n",
              "    .dataframe thead th {\n",
              "        text-align: right;\n",
              "    }\n",
              "</style>\n",
              "<table border=\"1\" class=\"dataframe\">\n",
              "  <thead>\n",
              "    <tr style=\"text-align: right;\">\n",
              "      <th></th>\n",
              "      <th>userId</th>\n",
              "      <th>recommendations</th>\n",
              "    </tr>\n",
              "  </thead>\n",
              "  <tbody>\n",
              "    <tr>\n",
              "      <th>0</th>\n",
              "      <td>471</td>\n",
              "      <td>[(8477, 5.117608070373535), (148881, 5.0765991...</td>\n",
              "    </tr>\n",
              "    <tr>\n",
              "      <th>1</th>\n",
              "      <td>463</td>\n",
              "      <td>[(3379, 5.16340446472168), (33649, 5.082136631...</td>\n",
              "    </tr>\n",
              "    <tr>\n",
              "      <th>2</th>\n",
              "      <td>496</td>\n",
              "      <td>[(58301, 5.119971752166748), (8254, 5.08419561...</td>\n",
              "    </tr>\n",
              "    <tr>\n",
              "      <th>3</th>\n",
              "      <td>148</td>\n",
              "      <td>[(33090, 5.134688377380371), (69211, 5.0945620...</td>\n",
              "    </tr>\n",
              "    <tr>\n",
              "      <th>4</th>\n",
              "      <td>540</td>\n",
              "      <td>[(3379, 5.755271911621094), (33649, 5.69312095...</td>\n",
              "    </tr>\n",
              "  </tbody>\n",
              "</table>\n",
              "</div>"
            ],
            "text/plain": [
              "   userId                                                                                                                                                                                                                                                                          recommendations\n",
              "0     471          [(8477, 5.117608070373535), (148881, 5.07659912109375), (40491, 4.868337154388428), (6818, 4.868337154388428), (3379, 4.856972694396973), (4495, 4.80442476272583), (6201, 4.80442476272583), (33649, 4.7364277839660645), (58301, 4.729963302612305), (53, 4.717412948608398)]\n",
              "1     463     [(3379, 5.16340446472168), (33649, 5.082136631011963), (5490, 4.9469451904296875), (3200, 4.882599353790283), (26810, 4.86949348449707), (5915, 4.8454461097717285), (59018, 4.837263584136963), (6086, 4.825881481170654), (92475, 4.757236957550049), (131724, 4.706271648406982)]\n",
              "2     496    [(58301, 5.119971752166748), (8254, 5.084195613861084), (7767, 4.9908552169799805), (51931, 4.989014625549316), (131724, 4.933772563934326), (8042, 4.932544708251953), (26810, 4.927286624908447), (27555, 4.915801048278809), (3030, 4.886806488037109), (3379, 4.878213882446289)]\n",
              "3     148  [(33090, 5.134688377380371), (69211, 5.09456205368042), (121781, 5.09456205368042), (107951, 5.09456205368042), (136341, 5.09456205368042), (131130, 5.09456205368042), (147410, 5.09456205368042), (118270, 5.09456205368042), (131610, 5.09456205368042), (109241, 5.09456205368042)]\n",
              "4     540      [(3379, 5.755271911621094), (33649, 5.693120956420898), (26810, 5.397153377532959), (5490, 5.3968400955200195), (6086, 5.364169120788574), (59018, 5.327214241027832), (104875, 5.32588005065918), (6666, 5.325130462646484), (5915, 5.318119525909424), (3200, 5.314723968505859)]"
            ]
          },
          "metadata": {
            "tags": []
          },
          "execution_count": 52
        }
      ]
    },
    {
      "cell_type": "code",
      "metadata": {
        "id": "H0zcPPTzNSws",
        "colab_type": "code",
        "colab": {}
      },
      "source": [
        "movies_koalas = movies_df.to_koalas()"
      ],
      "execution_count": null,
      "outputs": []
    },
    {
      "cell_type": "code",
      "metadata": {
        "id": "X9emoRcENafw",
        "colab_type": "code",
        "colab": {}
      },
      "source": [
        "def movie_recommendation(user_rec, userId, movies_koalas):\n",
        "  rec_movieId = []\n",
        "  for item in user_rec.loc['userId' == userId][1]:\n",
        "    rec_movieId.append(item[0])\n",
        "  return movies_koalas[movies_koalas.movieId.isin(rec_movieId)]"
      ],
      "execution_count": null,
      "outputs": []
    },
    {
      "cell_type": "code",
      "metadata": {
        "id": "ApzZIe4jUlEy",
        "colab_type": "code",
        "colab": {
          "base_uri": "https://localhost:8080/",
          "height": 359
        },
        "outputId": "40712f5c-0169-491e-d470-9883ffcbc18b"
      },
      "source": [
        "movie_recommendation(user_rec, 575, movies_koalas)"
      ],
      "execution_count": null,
      "outputs": [
        {
          "output_type": "execute_result",
          "data": {
            "text/html": [
              "<div>\n",
              "<style scoped>\n",
              "    .dataframe tbody tr th:only-of-type {\n",
              "        vertical-align: middle;\n",
              "    }\n",
              "\n",
              "    .dataframe tbody tr th {\n",
              "        vertical-align: top;\n",
              "    }\n",
              "\n",
              "    .dataframe thead th {\n",
              "        text-align: right;\n",
              "    }\n",
              "</style>\n",
              "<table border=\"1\" class=\"dataframe\">\n",
              "  <thead>\n",
              "    <tr style=\"text-align: right;\">\n",
              "      <th></th>\n",
              "      <th>movieId</th>\n",
              "      <th>title</th>\n",
              "      <th>genres</th>\n",
              "    </tr>\n",
              "  </thead>\n",
              "  <tbody>\n",
              "    <tr>\n",
              "      <th>48</th>\n",
              "      <td>53</td>\n",
              "      <td>Lamerica (1994)</td>\n",
              "      <td>Adventure|Drama</td>\n",
              "    </tr>\n",
              "    <tr>\n",
              "      <th>2523</th>\n",
              "      <td>3379</td>\n",
              "      <td>On the Beach (1959)</td>\n",
              "      <td>Drama</td>\n",
              "    </tr>\n",
              "    <tr>\n",
              "      <th>3320</th>\n",
              "      <td>4495</td>\n",
              "      <td>Crossing Delancey (1988)</td>\n",
              "      <td>Comedy|Romance</td>\n",
              "    </tr>\n",
              "    <tr>\n",
              "      <th>4251</th>\n",
              "      <td>6201</td>\n",
              "      <td>Lady Jane (1986)</td>\n",
              "      <td>Drama|Romance</td>\n",
              "    </tr>\n",
              "    <tr>\n",
              "      <th>4590</th>\n",
              "      <td>6818</td>\n",
              "      <td>Come and See (Idi i smotri) (1985)</td>\n",
              "      <td>Drama|War</td>\n",
              "    </tr>\n",
              "    <tr>\n",
              "      <th>5202</th>\n",
              "      <td>8477</td>\n",
              "      <td>Jetée, La (1962)</td>\n",
              "      <td>Romance|Sci-Fi</td>\n",
              "    </tr>\n",
              "    <tr>\n",
              "      <th>5906</th>\n",
              "      <td>33649</td>\n",
              "      <td>Saving Face (2004)</td>\n",
              "      <td>Comedy|Drama|Romance</td>\n",
              "    </tr>\n",
              "    <tr>\n",
              "      <th>6051</th>\n",
              "      <td>40491</td>\n",
              "      <td>Match Factory Girl, The (Tulitikkutehtaan tytt...</td>\n",
              "      <td>Comedy|Drama</td>\n",
              "    </tr>\n",
              "    <tr>\n",
              "      <th>6697</th>\n",
              "      <td>58301</td>\n",
              "      <td>Funny Games U.S. (2007)</td>\n",
              "      <td>Drama|Thriller</td>\n",
              "    </tr>\n",
              "    <tr>\n",
              "      <th>9170</th>\n",
              "      <td>148881</td>\n",
              "      <td>World of Tomorrow (2015)</td>\n",
              "      <td>Animation|Comedy</td>\n",
              "    </tr>\n",
              "  </tbody>\n",
              "</table>\n",
              "</div>"
            ],
            "text/plain": [
              "     movieId                                                    title                genres\n",
              "48        53                                          Lamerica (1994)       Adventure|Drama\n",
              "2523    3379                                      On the Beach (1959)                 Drama\n",
              "3320    4495                                 Crossing Delancey (1988)        Comedy|Romance\n",
              "4251    6201                                         Lady Jane (1986)         Drama|Romance\n",
              "4590    6818                       Come and See (Idi i smotri) (1985)             Drama|War\n",
              "5202    8477                                         Jetée, La (1962)        Romance|Sci-Fi\n",
              "5906   33649                                       Saving Face (2004)  Comedy|Drama|Romance\n",
              "6051   40491  Match Factory Girl, The (Tulitikkutehtaan tyttö) (1990)          Comedy|Drama\n",
              "6697   58301                                  Funny Games U.S. (2007)        Drama|Thriller\n",
              "9170  148881                                 World of Tomorrow (2015)      Animation|Comedy"
            ]
          },
          "metadata": {
            "tags": []
          },
          "execution_count": 55
        }
      ]
    },
    {
      "cell_type": "code",
      "metadata": {
        "id": "JOlaIhd4Pt7u",
        "colab_type": "code",
        "colab": {
          "base_uri": "https://localhost:8080/",
          "height": 359
        },
        "outputId": "f471a063-5548-453b-eddc-26ed966de6e0"
      },
      "source": [
        "movie_recommendation(user_rec, 232, movies_koalas)"
      ],
      "execution_count": null,
      "outputs": [
        {
          "output_type": "execute_result",
          "data": {
            "text/html": [
              "<div>\n",
              "<style scoped>\n",
              "    .dataframe tbody tr th:only-of-type {\n",
              "        vertical-align: middle;\n",
              "    }\n",
              "\n",
              "    .dataframe tbody tr th {\n",
              "        vertical-align: top;\n",
              "    }\n",
              "\n",
              "    .dataframe thead th {\n",
              "        text-align: right;\n",
              "    }\n",
              "</style>\n",
              "<table border=\"1\" class=\"dataframe\">\n",
              "  <thead>\n",
              "    <tr style=\"text-align: right;\">\n",
              "      <th></th>\n",
              "      <th>movieId</th>\n",
              "      <th>title</th>\n",
              "      <th>genres</th>\n",
              "    </tr>\n",
              "  </thead>\n",
              "  <tbody>\n",
              "    <tr>\n",
              "      <th>48</th>\n",
              "      <td>53</td>\n",
              "      <td>Lamerica (1994)</td>\n",
              "      <td>Adventure|Drama</td>\n",
              "    </tr>\n",
              "    <tr>\n",
              "      <th>2523</th>\n",
              "      <td>3379</td>\n",
              "      <td>On the Beach (1959)</td>\n",
              "      <td>Drama</td>\n",
              "    </tr>\n",
              "    <tr>\n",
              "      <th>3320</th>\n",
              "      <td>4495</td>\n",
              "      <td>Crossing Delancey (1988)</td>\n",
              "      <td>Comedy|Romance</td>\n",
              "    </tr>\n",
              "    <tr>\n",
              "      <th>4251</th>\n",
              "      <td>6201</td>\n",
              "      <td>Lady Jane (1986)</td>\n",
              "      <td>Drama|Romance</td>\n",
              "    </tr>\n",
              "    <tr>\n",
              "      <th>4590</th>\n",
              "      <td>6818</td>\n",
              "      <td>Come and See (Idi i smotri) (1985)</td>\n",
              "      <td>Drama|War</td>\n",
              "    </tr>\n",
              "    <tr>\n",
              "      <th>5202</th>\n",
              "      <td>8477</td>\n",
              "      <td>Jetée, La (1962)</td>\n",
              "      <td>Romance|Sci-Fi</td>\n",
              "    </tr>\n",
              "    <tr>\n",
              "      <th>5906</th>\n",
              "      <td>33649</td>\n",
              "      <td>Saving Face (2004)</td>\n",
              "      <td>Comedy|Drama|Romance</td>\n",
              "    </tr>\n",
              "    <tr>\n",
              "      <th>6051</th>\n",
              "      <td>40491</td>\n",
              "      <td>Match Factory Girl, The (Tulitikkutehtaan tytt...</td>\n",
              "      <td>Comedy|Drama</td>\n",
              "    </tr>\n",
              "    <tr>\n",
              "      <th>6697</th>\n",
              "      <td>58301</td>\n",
              "      <td>Funny Games U.S. (2007)</td>\n",
              "      <td>Drama|Thriller</td>\n",
              "    </tr>\n",
              "    <tr>\n",
              "      <th>9170</th>\n",
              "      <td>148881</td>\n",
              "      <td>World of Tomorrow (2015)</td>\n",
              "      <td>Animation|Comedy</td>\n",
              "    </tr>\n",
              "  </tbody>\n",
              "</table>\n",
              "</div>"
            ],
            "text/plain": [
              "     movieId                                                    title                genres\n",
              "48        53                                          Lamerica (1994)       Adventure|Drama\n",
              "2523    3379                                      On the Beach (1959)                 Drama\n",
              "3320    4495                                 Crossing Delancey (1988)        Comedy|Romance\n",
              "4251    6201                                         Lady Jane (1986)         Drama|Romance\n",
              "4590    6818                       Come and See (Idi i smotri) (1985)             Drama|War\n",
              "5202    8477                                         Jetée, La (1962)        Romance|Sci-Fi\n",
              "5906   33649                                       Saving Face (2004)  Comedy|Drama|Romance\n",
              "6051   40491  Match Factory Girl, The (Tulitikkutehtaan tyttö) (1990)          Comedy|Drama\n",
              "6697   58301                                  Funny Games U.S. (2007)        Drama|Thriller\n",
              "9170  148881                                 World of Tomorrow (2015)      Animation|Comedy"
            ]
          },
          "metadata": {
            "tags": []
          },
          "execution_count": 56
        }
      ]
    },
    {
      "cell_type": "markdown",
      "metadata": {
        "id": "frGjLGBkP9eO",
        "colab_type": "text"
      },
      "source": [
        "Find the similar movies from movie with id 463, 471\n",
        "\n",
        "You can find the similar movies based on the ALS results"
      ]
    },
    {
      "cell_type": "code",
      "metadata": {
        "id": "mz0ffsGdhLlj",
        "colab_type": "code",
        "colab": {}
      },
      "source": [
        "import numpy as np"
      ],
      "execution_count": null,
      "outputs": []
    },
    {
      "cell_type": "code",
      "metadata": {
        "id": "xEL_oYhYP8-e",
        "colab_type": "code",
        "colab": {}
      },
      "source": [
        "# Generate top 10 movie recommendations for each movie\n",
        "movieRecs = model.recommendForAllItems(10)"
      ],
      "execution_count": null,
      "outputs": []
    },
    {
      "cell_type": "code",
      "metadata": {
        "id": "B61gKqTQQVAE",
        "colab_type": "code",
        "colab": {}
      },
      "source": [
        "item_factors = best_model.itemFactors"
      ],
      "execution_count": null,
      "outputs": []
    },
    {
      "cell_type": "code",
      "metadata": {
        "id": "XQ-WcsTNQn69",
        "colab_type": "code",
        "colab": {
          "base_uri": "https://localhost:8080/",
          "height": 170
        },
        "outputId": "e349adf7-40dc-4d7d-9471-9b455b5b4167"
      },
      "source": [
        "item_factors.show(3)"
      ],
      "execution_count": null,
      "outputs": [
        {
          "output_type": "stream",
          "text": [
            "+---+--------------------+\n",
            "| id|            features|\n",
            "+---+--------------------+\n",
            "| 10|[-0.36941087, -0....|\n",
            "| 20|[-0.21831185, -0....|\n",
            "| 30|[-1.6858807, -0.2...|\n",
            "+---+--------------------+\n",
            "only showing top 3 rows\n",
            "\n"
          ],
          "name": "stdout"
        }
      ]
    },
    {
      "cell_type": "code",
      "metadata": {
        "id": "56ET3HSfc_sk",
        "colab_type": "code",
        "colab": {}
      },
      "source": [
        "movie_factors = item_factors.to_koalas()"
      ],
      "execution_count": null,
      "outputs": []
    },
    {
      "cell_type": "code",
      "metadata": {
        "id": "Yumul3I1dAFN",
        "colab_type": "code",
        "colab": {
          "base_uri": "https://localhost:8080/",
          "height": 102
        },
        "outputId": "68c6d8a0-ef33-4e09-b298-2d4e9ed6a0ab"
      },
      "source": [
        "movie_factors.features[0]"
      ],
      "execution_count": null,
      "outputs": [
        {
          "output_type": "execute_result",
          "data": {
            "text/plain": [
              "[-0.3694108724594116,\n",
              " -0.5022423267364502,\n",
              " -1.4914720058441162,\n",
              " -1.125838279724121,\n",
              " 0.6240119338035583]"
            ]
          },
          "metadata": {
            "tags": []
          },
          "execution_count": 62
        }
      ]
    },
    {
      "cell_type": "code",
      "metadata": {
        "id": "360vW7WpdAhM",
        "colab_type": "code",
        "colab": {}
      },
      "source": [
        "def similar_movies(features, movieId):\n",
        "\n",
        "  try: \n",
        "    target_id_feature = movie_factors.loc[movie_factors.id == movieId].features.to_numpy()[0]\n",
        "  except:\n",
        "    return 'There is no movie with id ' + str(movieId)\n",
        "\n",
        "  similarities = []\n",
        "  for feature in movie_factors['features'].to_numpy():\n",
        "    similarity = np.dot(target_id_feature,feature)/(np.linalg.norm(target_id_feature) * np.linalg.norm(feature))\n",
        "    similarities.append(similarity)\n",
        "    \n",
        "  ks_similarity = ks.DataFrame({'similarity' : similarities}, index = movie_factors.id.to_numpy())\n",
        "  # top 11 similar movies contain the movie itself with similarity = 1, so I need to remove it. \n",
        "  top_11 = ks_similarity.sort_values(by = ['similarity'], ascending = False).head(11)\n",
        "  joint = top_11.merge(movies_koalas, left_index = True, right_on = 'movieId', how = 'inner')\n",
        "  joint.sort_values(by = ['similarity'], ascending = False, inplace = True)\n",
        "  joint.reset_index(inplace = True)\n",
        "  # take top 10 similar movies\n",
        "  return joint.loc[1:,['movieId','title','genres']]"
      ],
      "execution_count": null,
      "outputs": []
    },
    {
      "cell_type": "code",
      "metadata": {
        "id": "i38SzPicflql",
        "colab_type": "code",
        "colab": {
          "base_uri": "https://localhost:8080/",
          "height": 34
        },
        "outputId": "3b97e084-aad4-45c9-e991-e28cd092a1e2"
      },
      "source": [
        "similar_movies(features = movie_factors['features'], movieId = 463)"
      ],
      "execution_count": null,
      "outputs": [
        {
          "output_type": "execute_result",
          "data": {
            "application/vnd.google.colaboratory.intrinsic+json": {
              "type": "string"
            },
            "text/plain": [
              "'There is no movie with id 463'"
            ]
          },
          "metadata": {
            "tags": []
          },
          "execution_count": 69
        }
      ]
    },
    {
      "cell_type": "code",
      "metadata": {
        "id": "3LjICluMf1RU",
        "colab_type": "code",
        "colab": {
          "base_uri": "https://localhost:8080/",
          "height": 359
        },
        "outputId": "8d0caf6a-c2ad-4b08-c3ea-9f5f2f5dad50"
      },
      "source": [
        "similar_movies(features = movie_factors['features'], movieId = 471)"
      ],
      "execution_count": null,
      "outputs": [
        {
          "output_type": "execute_result",
          "data": {
            "text/html": [
              "<div>\n",
              "<style scoped>\n",
              "    .dataframe tbody tr th:only-of-type {\n",
              "        vertical-align: middle;\n",
              "    }\n",
              "\n",
              "    .dataframe tbody tr th {\n",
              "        vertical-align: top;\n",
              "    }\n",
              "\n",
              "    .dataframe thead th {\n",
              "        text-align: right;\n",
              "    }\n",
              "</style>\n",
              "<table border=\"1\" class=\"dataframe\">\n",
              "  <thead>\n",
              "    <tr style=\"text-align: right;\">\n",
              "      <th></th>\n",
              "      <th>movieId</th>\n",
              "      <th>title</th>\n",
              "      <th>genres</th>\n",
              "    </tr>\n",
              "  </thead>\n",
              "  <tbody>\n",
              "    <tr>\n",
              "      <th>1</th>\n",
              "      <td>5325</td>\n",
              "      <td>Dogtown and Z-Boyz (2001)</td>\n",
              "      <td>Documentary</td>\n",
              "    </tr>\n",
              "    <tr>\n",
              "      <th>2</th>\n",
              "      <td>569</td>\n",
              "      <td>Little Big League (1994)</td>\n",
              "      <td>Comedy|Drama</td>\n",
              "    </tr>\n",
              "    <tr>\n",
              "      <th>3</th>\n",
              "      <td>6252</td>\n",
              "      <td>View from the Top (2003)</td>\n",
              "      <td>Comedy|Romance</td>\n",
              "    </tr>\n",
              "    <tr>\n",
              "      <th>4</th>\n",
              "      <td>87194</td>\n",
              "      <td>The Way (2010)</td>\n",
              "      <td>Adventure|Comedy|Drama</td>\n",
              "    </tr>\n",
              "    <tr>\n",
              "      <th>5</th>\n",
              "      <td>2142</td>\n",
              "      <td>American Tail: Fievel Goes West, An (1991)</td>\n",
              "      <td>Adventure|Animation|Children|Musical|Western</td>\n",
              "    </tr>\n",
              "    <tr>\n",
              "      <th>6</th>\n",
              "      <td>446</td>\n",
              "      <td>Farewell My Concubine (Ba wang bie ji) (1993)</td>\n",
              "      <td>Drama|Romance</td>\n",
              "    </tr>\n",
              "    <tr>\n",
              "      <th>7</th>\n",
              "      <td>1018</td>\n",
              "      <td>That Darn Cat! (1965)</td>\n",
              "      <td>Children|Comedy|Mystery</td>\n",
              "    </tr>\n",
              "    <tr>\n",
              "      <th>8</th>\n",
              "      <td>3181</td>\n",
              "      <td>Titus (1999)</td>\n",
              "      <td>Drama</td>\n",
              "    </tr>\n",
              "    <tr>\n",
              "      <th>9</th>\n",
              "      <td>49772</td>\n",
              "      <td>Painted Veil, The (2006)</td>\n",
              "      <td>Drama|Romance</td>\n",
              "    </tr>\n",
              "    <tr>\n",
              "      <th>10</th>\n",
              "      <td>5572</td>\n",
              "      <td>Barbershop (2002)</td>\n",
              "      <td>Comedy</td>\n",
              "    </tr>\n",
              "  </tbody>\n",
              "</table>\n",
              "</div>"
            ],
            "text/plain": [
              "   movieId                                          title                                        genres\n",
              "1     5325                      Dogtown and Z-Boyz (2001)                                   Documentary\n",
              "2      569                       Little Big League (1994)                                  Comedy|Drama\n",
              "3     6252                       View from the Top (2003)                                Comedy|Romance\n",
              "4    87194                                 The Way (2010)                        Adventure|Comedy|Drama\n",
              "5     2142     American Tail: Fievel Goes West, An (1991)  Adventure|Animation|Children|Musical|Western\n",
              "6      446  Farewell My Concubine (Ba wang bie ji) (1993)                                 Drama|Romance\n",
              "7     1018                          That Darn Cat! (1965)                       Children|Comedy|Mystery\n",
              "8     3181                                   Titus (1999)                                         Drama\n",
              "9    49772                       Painted Veil, The (2006)                                 Drama|Romance\n",
              "10    5572                              Barbershop (2002)                                        Comedy"
            ]
          },
          "metadata": {
            "tags": []
          },
          "execution_count": 70
        }
      ]
    },
    {
      "cell_type": "code",
      "metadata": {
        "id": "r7EXXcIFhem0",
        "colab_type": "code",
        "colab": {
          "base_uri": "https://localhost:8080/",
          "height": 359
        },
        "outputId": "45bf416d-6c69-4d27-c936-810513609755"
      },
      "source": [
        "similar_movies(features = movie_factors['features'], movieId = 500)"
      ],
      "execution_count": null,
      "outputs": [
        {
          "output_type": "execute_result",
          "data": {
            "text/html": [
              "<div>\n",
              "<style scoped>\n",
              "    .dataframe tbody tr th:only-of-type {\n",
              "        vertical-align: middle;\n",
              "    }\n",
              "\n",
              "    .dataframe tbody tr th {\n",
              "        vertical-align: top;\n",
              "    }\n",
              "\n",
              "    .dataframe thead th {\n",
              "        text-align: right;\n",
              "    }\n",
              "</style>\n",
              "<table border=\"1\" class=\"dataframe\">\n",
              "  <thead>\n",
              "    <tr style=\"text-align: right;\">\n",
              "      <th></th>\n",
              "      <th>movieId</th>\n",
              "      <th>title</th>\n",
              "      <th>genres</th>\n",
              "    </tr>\n",
              "  </thead>\n",
              "  <tbody>\n",
              "    <tr>\n",
              "      <th>1</th>\n",
              "      <td>36363</td>\n",
              "      <td>Kin-Dza-Dza! (1986)</td>\n",
              "      <td>Comedy|Drama|Sci-Fi</td>\n",
              "    </tr>\n",
              "    <tr>\n",
              "      <th>2</th>\n",
              "      <td>27320</td>\n",
              "      <td>Nine Lives of Tomas Katz, The (2000)</td>\n",
              "      <td>Comedy|Drama|Fantasy</td>\n",
              "    </tr>\n",
              "    <tr>\n",
              "      <th>3</th>\n",
              "      <td>757</td>\n",
              "      <td>Ashes of Time (Dung che sai duk) (1994)</td>\n",
              "      <td>Drama</td>\n",
              "    </tr>\n",
              "    <tr>\n",
              "      <th>4</th>\n",
              "      <td>55253</td>\n",
              "      <td>Lust, Caution (Se, jie) (2007)</td>\n",
              "      <td>Drama|Romance|Thriller|War</td>\n",
              "    </tr>\n",
              "    <tr>\n",
              "      <th>5</th>\n",
              "      <td>4019</td>\n",
              "      <td>Finding Forrester (2000)</td>\n",
              "      <td>Drama</td>\n",
              "    </tr>\n",
              "    <tr>\n",
              "      <th>6</th>\n",
              "      <td>5159</td>\n",
              "      <td>Ferngully: The Last Rainforest (1992)</td>\n",
              "      <td>Animation|Children|Comedy|Musical</td>\n",
              "    </tr>\n",
              "    <tr>\n",
              "      <th>7</th>\n",
              "      <td>74508</td>\n",
              "      <td>Persuasion (2007)</td>\n",
              "      <td>Drama|Romance</td>\n",
              "    </tr>\n",
              "    <tr>\n",
              "      <th>8</th>\n",
              "      <td>2585</td>\n",
              "      <td>Lovers of the Arctic Circle, The (Los Amantes ...</td>\n",
              "      <td>Drama|Romance</td>\n",
              "    </tr>\n",
              "    <tr>\n",
              "      <th>9</th>\n",
              "      <td>74510</td>\n",
              "      <td>Girl Who Played with Fire, The (Flickan som le...</td>\n",
              "      <td>Action|Crime|Drama|Mystery|Thriller</td>\n",
              "    </tr>\n",
              "    <tr>\n",
              "      <th>10</th>\n",
              "      <td>43396</td>\n",
              "      <td>World's Fastest Indian, The (2005)</td>\n",
              "      <td>Drama</td>\n",
              "    </tr>\n",
              "  </tbody>\n",
              "</table>\n",
              "</div>"
            ],
            "text/plain": [
              "   movieId                                                                    title                               genres\n",
              "1    36363                                                      Kin-Dza-Dza! (1986)                  Comedy|Drama|Sci-Fi\n",
              "2    27320                                     Nine Lives of Tomas Katz, The (2000)                 Comedy|Drama|Fantasy\n",
              "3      757                                  Ashes of Time (Dung che sai duk) (1994)                                Drama\n",
              "4    55253                                           Lust, Caution (Se, jie) (2007)           Drama|Romance|Thriller|War\n",
              "5     4019                                                 Finding Forrester (2000)                                Drama\n",
              "6     5159                                    Ferngully: The Last Rainforest (1992)    Animation|Children|Comedy|Musical\n",
              "7    74508                                                        Persuasion (2007)                        Drama|Romance\n",
              "8     2585  Lovers of the Arctic Circle, The (Los Amantes del Círculo Polar) (1998)                        Drama|Romance\n",
              "9    74510      Girl Who Played with Fire, The (Flickan som lekte med elden) (2009)  Action|Crime|Drama|Mystery|Thriller\n",
              "10   43396                                       World's Fastest Indian, The (2005)                                Drama"
            ]
          },
          "metadata": {
            "tags": []
          },
          "execution_count": 71
        }
      ]
    },
    {
      "cell_type": "markdown",
      "metadata": {
        "id": "00AQ58W7hofP",
        "colab_type": "text"
      },
      "source": [
        "### Write the report\n",
        "\n",
        "motivation: In this notebook, I try to use an Aternating Least Squares(ALS) algorithm with Spark APIs to predict the ratings for the movies in MovieLens small dataset.\n",
        "\n",
        "Step 1: Data ETL and Data Exploration\n",
        "\n",
        "* Conducted data preprocessing like splitting genres into categories\n",
        "\n",
        "* Conducted exploratory data analysis such as counting the number of movies for each category\n",
        "\n",
        "Step 2: Build a recommendation model based on historical movie ratings and solve it by matrix factorization and alternating least squares (ALS).\n",
        "\n",
        "Step 3: Tune the model parameters through grid search and crossvalidation with the metric root mean square errors (rmse). \n",
        "\n",
        "Step 4: Recommend 10 movies to some certain users and find top 10 similar movies in terms of some specific movies.\n",
        "\n",
        "Conclusion: The best model has rmse = 0.65 on the training dataset and rmse = 0.88 on the test dataset. The best model I got has 5 latent factors (hidden features). These features describe a movie in 5 dimensions. Based on the feature, I can define the cosine similarity between movies."
      ]
    }
  ]
}